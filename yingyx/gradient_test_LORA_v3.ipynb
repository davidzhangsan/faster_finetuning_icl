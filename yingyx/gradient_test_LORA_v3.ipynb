{
 "cells": [
  {
   "cell_type": "markdown",
   "id": "df96e9c8",
   "metadata": {
    "id": "df96e9c8"
   },
   "source": [
    "## Package Installation and device checking"
   ]
  },
  {
   "cell_type": "code",
   "execution_count": 1,
   "id": "a9f7eb87-28e3-4771-a49f-35168e1720eb",
   "metadata": {
    "id": "a9f7eb87-28e3-4771-a49f-35168e1720eb"
   },
   "outputs": [],
   "source": [
    "import torch\n",
    "import torch.nn as nn\n",
    "from tqdm import tqdm\n",
    "from typing import List\n",
    "device = \"cuda\" if torch.cuda.is_available() else \"cpu\""
   ]
  },
  {
   "cell_type": "markdown",
   "id": "289fe580-0e46-4448-8bf7-3949fc525ea3",
   "metadata": {
    "id": "289fe580-0e46-4448-8bf7-3949fc525ea3"
   },
   "source": [
    "## Interleaving Tokenization Method (Garg et al., 2022)\n",
    "\n",
    "In training GPT-2, we consider an alternative tokenization method called **Interleave**, where the features `x` and `y` are interleaved into separate tokens.\n",
    "\n",
    "### Tokenization Process:\n",
    "E(P) =\n",
    "\\begin{pmatrix}\n",
    "x_1 & 0 & x_2 & 0 & \\cdots & x_N & 0 & x_{query} \\\\\n",
    "0 & y_1 & 0 & y_2 & \\cdots & 0 & y_N & 0\n",
    "\\end{pmatrix} \\in \\mathbb{R}^{(d+1)\\times(2N+1)}\n",
    "\n",
    "### Causal Masking:\n",
    "To ensure that the i-th column only depends on the columns ≤ i, **causal masking** is used. This allows the formulation of a next-token prediction averaged across all `N` pairs of examples, with the following loss function:\n",
    "\n",
    "$$\n",
    "\\hat{L}(\\theta) = \\frac{1}{2B} \\sum_{\\tau=1}^{B} \\left( \\frac{1}{N} \\sum_{i=1}^{N} \\left( f^{Mask}(E_{\\tau}; \\theta)_{d+1,2i+1} - y_{\\tau,i+1} \\right)^2 \\right)\n",
    "$$\n",
    "\n",
    "### Reference:\n",
    "This formulation was originally used in the work by **Garg et al. (2022)**.\n"
   ]
  },
  {
   "cell_type": "code",
   "execution_count": 2,
   "id": "YHg0kRvyYhOR",
   "metadata": {
    "id": "YHg0kRvyYhOR"
   },
   "outputs": [],
   "source": [
    "class LoRALayer:\n",
    "    def __init__(self, r: int, lora_alpha: int, lora_dropout: float):\n",
    "        self.r = r\n",
    "        self.lora_alpha = lora_alpha\n",
    "        self.lora_dropout = nn.Dropout(p=lora_dropout) if lora_dropout > 0. else lambda x: x\n",
    "\n",
    "# class LoRAcAttnWrapper(nn.Module):\n",
    "#     def __init__(self, lora_adapter_q, lora_adapter_k, original_v):\n",
    "#         super().__init__()\n",
    "#         self.lora_adapter_q = lora_adapter_q\n",
    "#         self.lora_adapter_k = lora_adapter_k\n",
    "#         self.original_v = original_v\n",
    "\n",
    "#     def forward(self, x):\n",
    "#         q = self.lora_adapter_q(x)\n",
    "#         k = self.lora_adapter_k(x)\n",
    "#         v = self.original_v(x)\n",
    "#         return torch.cat([q, k, v], dim=-1)\n",
    "\n",
    "class LoRAcAttnWrapper(nn.Module):\n",
    "    def __init__(self, lora_adapter_q, lora_adapter_k, original_v, bias_q, bias_k, bias_v):\n",
    "        super().__init__()\n",
    "        self.lora_adapter_q = lora_adapter_q\n",
    "        self.lora_adapter_k = lora_adapter_k\n",
    "        self.original_v = original_v\n",
    "\n",
    "        # Bias terms\n",
    "        self.bias_q = nn.Parameter(bias_q)\n",
    "        self.bias_k = nn.Parameter(bias_k)\n",
    "        self.bias_v = nn.Parameter(bias_v)\n",
    "\n",
    "    def forward(self, x):\n",
    "        q = self.lora_adapter_q(x) + self.bias_q\n",
    "        k = self.lora_adapter_k(x) + self.bias_k\n",
    "        v = self.original_v(x) + self.bias_v\n",
    "        return torch.cat([q, k, v], dim=-1)\n",
    "\n",
    "\n",
    "class LoRAAdapter(nn.Module, LoRALayer):\n",
    "    def __init__(\n",
    "        self,\n",
    "        existing_layer: nn.Module,\n",
    "        in_features,\n",
    "        out_features,\n",
    "        r: int = 0,\n",
    "        lora_alpha: int = 1,\n",
    "        lora_dropout: float = 0.,\n",
    "    ):\n",
    "        nn.Module.__init__(self)\n",
    "        LoRALayer.__init__(self, r=r, lora_alpha=lora_alpha, lora_dropout=lora_dropout)\n",
    "        self.existing_layer = existing_layer\n",
    "\n",
    "        existing_dtype = next(existing_layer.parameters()).dtype\n",
    "        if r > 0:\n",
    "            self.lora_A = nn.Parameter(torch.zeros((in_features, r), dtype=existing_dtype))\n",
    "            self.lora_B = nn.Parameter(torch.zeros((r, out_features), dtype=existing_dtype))\n",
    "            self.scaling = self.lora_alpha / self.r\n",
    "            self.reset_parameters()\n",
    "\n",
    "    def reset_parameters(self):\n",
    "        if hasattr(self, 'lora_A'):\n",
    "            nn.init.normal_(self.lora_A, mean=0, std=0.02)\n",
    "        if hasattr(self, 'lora_B'):\n",
    "            nn.init.zeros_(self.lora_B)\n",
    "\n",
    "    def forward(self, x: torch.Tensor):\n",
    "        if self.r > 0:\n",
    "            return self.existing_layer(x) + (self.lora_dropout(x) @ self.lora_A @ self.lora_B) * self.scaling\n",
    "        else:\n",
    "            return self.existing_layer(x)\n",
    "\n",
    "def replace_c_attn_with_lora(model: nn.Module, r: int, lora_alpha: int, lora_dropout: float):\n",
    "    for name, module in model.named_modules():\n",
    "        if \"c_attn\" in name:\n",
    "            # Extract original c_attn module\n",
    "            original_layer = module\n",
    "            in_features, out_features = original_layer.weight.shape\n",
    "            hidden_dim = out_features // 3  # Split into Q, K, V\n",
    "\n",
    "            original_bias = original_layer.bias\n",
    "            bias_q = original_bias[:hidden_dim].detach().clone()\n",
    "            bias_k = original_bias[hidden_dim:2 * hidden_dim].detach().clone()\n",
    "            bias_v = original_bias[2 * hidden_dim:].detach().clone()\n",
    "\n",
    "            # LoRA for Q and K\n",
    "            lora_adapter_q = LoRAAdapter(\n",
    "                existing_layer=nn.Linear(in_features, hidden_dim, bias=False),\n",
    "                in_features=in_features,\n",
    "                out_features=hidden_dim,\n",
    "                r=r,\n",
    "                lora_alpha=lora_alpha,\n",
    "                lora_dropout=lora_dropout\n",
    "            )\n",
    "            lora_adapter_k = LoRAAdapter(\n",
    "                existing_layer=nn.Linear(in_features, hidden_dim, bias=False),\n",
    "                in_features=in_features,\n",
    "                out_features=hidden_dim,\n",
    "                r=r,\n",
    "                lora_alpha=lora_alpha,\n",
    "                lora_dropout=lora_dropout\n",
    "            )\n",
    "\n",
    "            # Keep V as is\n",
    "            original_v = nn.Linear(in_features, hidden_dim, bias=False)\n",
    "            original_v.weight = nn.Parameter(original_layer.weight[:, 2 * hidden_dim:])\n",
    "\n",
    "            # Combine Q, K, and V with LoRA modifications\n",
    "            # lora_c_attn_module = LoRAcAttnWrapper(lora_adapter_q, lora_adapter_k, original_v)\n",
    "            lora_c_attn_module = LoRAcAttnWrapper(lora_adapter_q, lora_adapter_k, original_v, bias_q, bias_k, bias_v)\n",
    "\n",
    "\n",
    "            # Replace c_attn module\n",
    "            parts = name.split(\".\")\n",
    "            parent = model\n",
    "            for part in parts[:-1]:\n",
    "                parent = getattr(parent, part)\n",
    "            # print(parent)\n",
    "            # print(parts[-1])\n",
    "            # print(lora_c_attn)\n",
    "            # setattr(parent, parts[-1], lora_c_attn)\n",
    "            setattr(parent, parts[-1], lora_c_attn_module)\n",
    "\n",
    "\n",
    "# Mark only LoRA parameters as trainable\n",
    "def mark_only_lora_as_trainable(model: nn.Module):\n",
    "    for name, param in model.named_parameters():\n",
    "        if \"lora_A\" in name or \"lora_B\" in name:\n",
    "            param.requires_grad = True\n",
    "        else:\n",
    "            param.requires_grad = False"
   ]
  },
  {
   "cell_type": "code",
   "execution_count": 3,
   "id": "h41zSoedYlpa",
   "metadata": {
    "id": "h41zSoedYlpa"
   },
   "outputs": [],
   "source": [
    "from transformers import GPT2Model, GPT2Config\n",
    "# GPT2 Model with LoRA\n",
    "class MyGPT2Model(nn.Module):\n",
    "    def __init__(self, input_dim, output_dim, embed_dim=256, num_layers=8, num_heads=4):\n",
    "        super().__init__()\n",
    "        self.input_layer = nn.Linear(input_dim, embed_dim)\n",
    "        self.output_layer = nn.Linear(embed_dim, output_dim)\n",
    "        # Inject LoRA into c_attn layers\n",
    "        # Initialize GPT-2 with custom configuration\n",
    "        config = GPT2Config(\n",
    "            n_embd=embed_dim,\n",
    "            n_layer=num_layers,\n",
    "            n_head=num_heads,\n",
    "            vocab_size=50257  # Default GPT-2 vocab size\n",
    "        )\n",
    "        self.gpt2 = GPT2Model(config)\n",
    "        replace_c_attn_with_lora(self.gpt2, r=8, lora_alpha=8, lora_dropout=0.1)\n",
    "\n",
    "        # Mark only LoRA parameters as trainable\n",
    "        mark_only_lora_as_trainable(self.gpt2)\n",
    "\n",
    "    def forward(self, x):\n",
    "        x = self.input_layer(x)\n",
    "        x = self.gpt2(inputs_embeds=x).last_hidden_state\n",
    "        x = self.output_layer(x)\n",
    "        return x"
   ]
  },
  {
   "cell_type": "markdown",
   "id": "b679af48-13cf-4cd5-b03f-4aa02d84f87a",
   "metadata": {
    "id": "b679af48-13cf-4cd5-b03f-4aa02d84f87a"
   },
   "source": [
    "## Dataset setup"
   ]
  },
  {
   "cell_type": "code",
   "execution_count": 4,
   "id": "c303829b-b8e7-44b6-8afa-ddf96b3ecfa2",
   "metadata": {
    "id": "c303829b-b8e7-44b6-8afa-ddf96b3ecfa2"
   },
   "outputs": [],
   "source": [
    "\n",
    "class MyDataset(torch.utils.data.Dataset):\n",
    "    \"\"\" y = W * x, where w ~ N(0,I) and x ~ U(-1,1) \"\"\"\n",
    "    def __init__(self, x_dim, y_dim, len, L=None):\n",
    "        self.x_dim = x_dim\n",
    "        self.y_dim = y_dim\n",
    "        self.len = len\n",
    "        self.L = 4 * max(x_dim, y_dim) if L is None else L\n",
    "\n",
    "    def __len__(self):\n",
    "        return self.len\n",
    "\n",
    "    def __getitem__(self, _):\n",
    "        d = max(self.x_dim, self.y_dim)\n",
    "        x = torch.rand(self.L, self.x_dim) * 2 - 1 # (num_samples, x_dim)\n",
    "        w = torch.randn(self.x_dim, self.y_dim) / (d ** 0.5)\n",
    "        y = x @ w\n",
    "        return x, y, w"
   ]
  },
  {
   "cell_type": "markdown",
   "id": "2ca6e783-46d8-4a2c-b40c-9c6d0b80a300",
   "metadata": {
    "id": "2ca6e783-46d8-4a2c-b40c-9c6d0b80a300"
   },
   "source": [
    "## General training setups"
   ]
  },
  {
   "cell_type": "code",
   "execution_count": null,
   "id": "182d64da-d3e1-4efd-ac3c-8cbf443b2d01",
   "metadata": {
    "id": "182d64da-d3e1-4efd-ac3c-8cbf443b2d01"
   },
   "outputs": [],
   "source": [
    "x_dim, y_dim, embed_dim = 12, 1, 256\n",
    "num_layers, num_heads = 6, 2\n",
    "bsize, num_steps = 64, 50000\n",
    "lr, weight_decay = 1e-4, 1e-8\n",
    "dataset = MyDataset(x_dim, y_dim, bsize * num_steps, L=64)\n",
    "dataloader = torch.utils.data.DataLoader(dataset, batch_size=bsize)"
   ]
  },
  {
   "cell_type": "markdown",
   "id": "205439c3-4cb7-4106-b3c7-bd67d104f313",
   "metadata": {
    "id": "205439c3-4cb7-4106-b3c7-bd67d104f313"
   },
   "source": [
    "## Training GPT2\n",
    "\n",
    "Here we adopt the interleaving method from Garg et al. 2022. Here is the demonstration:"
   ]
  },
  {
   "cell_type": "code",
   "execution_count": 6,
   "id": "620303fc",
   "metadata": {},
   "outputs": [],
   "source": [
    "# config = GPT2Config(\n",
    "#     n_embd=256,\n",
    "#     n_layer=8,\n",
    "#     n_head=4,\n",
    "#     vocab_size=50257  # Default GPT-2 vocab size\n",
    "# )\n",
    "# t_model = GPT2Model(config)\n",
    "# for name, param in t_model.named_parameters():\n",
    "#     print(f\"{name}: {param.shape}\")"
   ]
  },
  {
   "cell_type": "code",
   "execution_count": 7,
   "id": "3c7d90c9",
   "metadata": {},
   "outputs": [],
   "source": [
    "model = MyGPT2Model(x_dim+y_dim, x_dim+y_dim).train().to(device)\n",
    "# for name, param in model.named_parameters():\n",
    "#     print(f\"{name}: {param.shape}\")\n",
    "# total_params = sum(p.numel() for p in model.parameters())\n",
    "# trainable_params = sum(p.numel() for p in model.parameters() if p.requires_grad)\n",
    "\n",
    "# print(f\"Total Parameters: {total_params}\")\n",
    "# print(f\"Trainable Parameters: {trainable_params}\")"
   ]
  },
  {
   "cell_type": "code",
   "execution_count": 8,
   "id": "2424ec2a-4f73-45c4-b77e-051cd455a6c1",
   "metadata": {
    "colab": {
     "base_uri": "https://localhost:8080/",
     "height": 472
    },
    "id": "2424ec2a-4f73-45c4-b77e-051cd455a6c1",
    "outputId": "c67dd07f-7b0e-4d71-a579-6efe86e44cbd"
   },
   "outputs": [
    {
     "name": "stderr",
     "output_type": "stream",
     "text": [
      "loss: 3.501e-01:   8%|▊         | 1525/20000 [08:16<1:40:16,  3.07it/s]\n"
     ]
    },
    {
     "ename": "KeyboardInterrupt",
     "evalue": "",
     "output_type": "error",
     "traceback": [
      "\u001b[0;31m---------------------------------------------------------------------------\u001b[0m",
      "\u001b[0;31mKeyboardInterrupt\u001b[0m                         Traceback (most recent call last)",
      "Cell \u001b[0;32mIn[8], line 28\u001b[0m\n\u001b[1;32m     25\u001b[0m \u001b[38;5;66;03m# print(f\"out {out.shape}, y_pred {y_pred.shape}, y {y.shape}\")\u001b[39;00m\n\u001b[1;32m     27\u001b[0m loss \u001b[38;5;241m=\u001b[39m torch\u001b[38;5;241m.\u001b[39mnn\u001b[38;5;241m.\u001b[39mfunctional\u001b[38;5;241m.\u001b[39mmse_loss(y, y_pred)\n\u001b[0;32m---> 28\u001b[0m batch_losses\u001b[38;5;241m.\u001b[39mappend(\u001b[43mloss\u001b[49m\u001b[38;5;241;43m.\u001b[39;49m\u001b[43mitem\u001b[49m\u001b[43m(\u001b[49m\u001b[43m)\u001b[49m)\n\u001b[1;32m     30\u001b[0m loss\u001b[38;5;241m.\u001b[39mbackward()\n\u001b[1;32m     31\u001b[0m optimizer\u001b[38;5;241m.\u001b[39mstep()\n",
      "\u001b[0;31mKeyboardInterrupt\u001b[0m: "
     ]
    }
   ],
   "source": [
    "optimizer = torch.optim.Adam(model.parameters(), lr=lr, weight_decay=weight_decay)\n",
    "\n",
    "epoch_losses = []\n",
    "batch_losses = []\n",
    "\n",
    "pbar = tqdm(dataloader)\n",
    "for (x, y, w) in pbar:\n",
    "    x, y = x.to(device), y.to(device)\n",
    "    L = x.size(1)\n",
    "\n",
    "    x_big = torch.cat([x, torch.zeros(bsize, L, y_dim, device=device)], dim=2)\n",
    "    y_big = torch.cat([torch.zeros(bsize, L, x_dim, device=device), y], dim=2)\n",
    "    # y_big[:,-1,-y_dim:] = 0.\n",
    "\n",
    "    z = torch.cat([x_big, y_big], dim=2).view(bsize,2*L,x_dim+y_dim)\n",
    "\n",
    "    # y_big = torch.cat([y, torch.zeros(bsize, y.size(1), x_dim - y_dim, device=device)], dim=-1)\n",
    "    # z = torch.stack([x, y_big], dim=2).view(bsize, 2 * x.size(1), x_dim).to(device)\n",
    "\n",
    "    # z: (bsize, 2L, x_dim+y_dim)\n",
    "    # out: (bsize, 2L, x_dim+y_dim)\n",
    "    out = model(z)\n",
    "    y_pred = out[:, 0::2, -y_dim:]\n",
    "\n",
    "    # print(f\"out {out.shape}, y_pred {y_pred.shape}, y {y.shape}\")\n",
    "\n",
    "    loss = torch.nn.functional.mse_loss(y, y_pred)\n",
    "    batch_losses.append(loss.item())\n",
    "\n",
    "    loss.backward()\n",
    "    optimizer.step()\n",
    "    optimizer.zero_grad()\n",
    "\n",
    "    pbar.set_description(f\"loss: {loss.item():.3e}\")\n",
    "\n",
    "avg_epoch_loss = sum(batch_losses) / len(batch_losses)\n",
    "epoch_losses.append(avg_epoch_loss)\n",
    "print(f\"average loss: {avg_epoch_loss:.4f}\")\n"
   ]
  },
  {
   "cell_type": "code",
   "execution_count": null,
   "id": "fc1b1709",
   "metadata": {
    "id": "fc1b1709",
    "outputId": "455a8d3e-c3f2-4758-e375-dd188de98da2"
   },
   "outputs": [
    {
     "data": {
      "text/plain": [
       "torch.Size([64, 128, 15])"
      ]
     },
     "execution_count": 6,
     "metadata": {},
     "output_type": "execute_result"
    }
   ],
   "source": [
    "out.shape"
   ]
  },
  {
   "cell_type": "code",
   "execution_count": null,
   "id": "b8a1331a-bba6-4015-828a-a1b8df79ca4f",
   "metadata": {
    "id": "b8a1331a-bba6-4015-828a-a1b8df79ca4f",
    "outputId": "167184ed-891a-4c5a-e18a-aa89e7219cc5"
   },
   "outputs": [
    {
     "data": {
      "image/png": "[encoded data removed]",
      "text/plain": [
       "<Figure size 1000x500 with 1 Axes>"
      ]
     },
     "metadata": {},
     "output_type": "display_data"
    }
   ],
   "source": [
    "# plot loss curve\n",
    "import numpy as np\n",
    "import matplotlib.pyplot as plt\n",
    "\n",
    "# Plot training loss\n",
    "plt.figure(figsize=(10, 5))\n",
    "plt.plot(batch_losses)\n",
    "plt.title(\"Training Loss Over Epochs\")\n",
    "plt.xlabel(\"Epoch\")\n",
    "plt.ylabel(\"Average Loss\")\n",
    "plt.show()\n",
    "plt.savefig(\"training_loss_curve.png\", dpi=300, bbox_inches='tight')"
   ]
  },
  {
   "cell_type": "markdown",
   "id": "19263877",
   "metadata": {
    "id": "19263877"
   },
   "source": [
    "Now, having a trained model, we want to check its in-context learning behavior. By having two weight vectors $w_1, w_2$, we hope to shuffle the portions of the two weight vectors in the in context prompt."
   ]
  },
  {
   "cell_type": "code",
   "execution_count": null,
   "id": "51f66e60",
   "metadata": {
    "id": "51f66e60"
   },
   "outputs": [],
   "source": [
    "def test_in_context_learning(model, x_dim, y_dim, num_runs=50, L=50):\n",
    "    model.eval()\n",
    "    device = next(model.parameters()).device\n",
    "    mse_loss = nn.MSELoss(reduction='mean')\n",
    "\n",
    "    proportions = np.arange(0, 1.1, 0.1)  # 0 to 1.0 in steps of 0.1\n",
    "    all_losses_w1 = []\n",
    "    all_losses_w2 = []\n",
    "\n",
    "    for _ in range(num_runs):\n",
    "        losses_w1 = []\n",
    "        losses_w2 = []\n",
    "\n",
    "        for prop in proportions:\n",
    "            num1 = int(L * prop)\n",
    "            num2 = L - num1\n",
    "\n",
    "            ds1 = MyDataset(x_dim, y_dim, 1, L=num1)\n",
    "            ds2 = MyDataset(x_dim, y_dim, 1, L=num2)\n",
    "\n",
    "            x1, y1, w1 = ds1[0]\n",
    "            x2, y2, w2 = ds2[0]\n",
    "\n",
    "            x1, y1, w1 = x1.to(device), y1.to(device), w1.to(device)\n",
    "            x2, y2, w2 = x2.to(device), y2.to(device), w2.to(device)\n",
    "\n",
    "            xs = torch.cat([x1, x2], dim=0)\n",
    "            ys = torch.cat([y1, y2], dim=0)\n",
    "\n",
    "            perm = torch.randperm(L, device=device)\n",
    "            xs = xs[perm]\n",
    "            ys = ys[perm]\n",
    "\n",
    "            xs_big = torch.cat([xs, torch.zeros(L, y_dim, device=device)], dim=-1)\n",
    "            ys_big = torch.cat([torch.zeros(L, x_dim, device=device), ys], dim=-1)\n",
    "\n",
    "            # Interelaved\n",
    "            zs_big = torch.cat([xs_big, ys_big], dim=-1).view(2*L, x_dim+y_dim)\n",
    "\n",
    "            # both w1 and w2\n",
    "            x_test = torch.rand(x_dim, device=device) * 2 - 1\n",
    "            y_true_w1 = x_test @ w1\n",
    "            y_true_w2 = x_test @ w2\n",
    "            # y_guess = prop * y_true_w1 + (1 - prop) * y_true_w2\n",
    "            y_guess = torch.zeros(y_dim, device=device)\n",
    "\n",
    "            x_test_big = torch.cat([x_test, torch.zeros(y_dim, device=device)], dim=0).view(1, x_dim+y_dim)\n",
    "            y_test_big = torch.cat([torch.zeros(1, x_dim, device=device), y_guess.view(1,y_dim)], dim=1)\n",
    "            zs_test = torch.cat([x_test_big, y_test_big], dim=0)\n",
    "\n",
    "            zs_all = torch.cat([zs_big, zs_test.view(2,x_dim+y_dim)], dim=0)\n",
    "\n",
    "            # print(f\"zs_all {zs_all.shape}\")\n",
    "            # print(zs_all)\n",
    "            # break\n",
    "\n",
    "            # Get model predictions\n",
    "            with torch.no_grad():\n",
    "                out = model(zs_all.view(1, 2*L + 2, x_dim+y_dim))\n",
    "\n",
    "            y_pred = out[0, -2, -y_dim:]\n",
    "\n",
    "            loss_w1 = mse_loss(y_pred, y_true_w1).item()\n",
    "            loss_w2 = mse_loss(y_pred, y_true_w2).item()\n",
    "\n",
    "            # print(loss_w1, loss_w2)\n",
    "            # break\n",
    "\n",
    "            losses_w1.append(loss_w1)\n",
    "            losses_w2.append(loss_w2)\n",
    "\n",
    "        # print(losses_w1)\n",
    "        # print(losses_w2)\n",
    "        # break\n",
    "        all_losses_w1.append(losses_w1)\n",
    "        all_losses_w2.append(losses_w2)\n",
    "\n",
    "    # Calculate average losses across all runs\n",
    "    # print(all_losses_w1)\n",
    "    avg_losses_w1 = np.mean(all_losses_w1, axis=0)\n",
    "    avg_losses_w2 = np.mean(all_losses_w2, axis=0)\n",
    "\n",
    "    return avg_losses_w1, avg_losses_w2\n",
    "\n",
    "# Run the test\n",
    "avg_losses_w1, avg_losses_w2 = test_in_context_learning(model, x_dim, y_dim)"
   ]
  },
  {
   "cell_type": "code",
   "execution_count": null,
   "id": "68354fae",
   "metadata": {
    "id": "68354fae",
    "outputId": "a46923b1-a6d2-478e-e87a-a4f0fa233f1f"
   },
   "outputs": [
    {
     "data": {
      "image/png": "[encoded data removed]",
      "text/plain": [
       "<Figure size 1200x600 with 1 Axes>"
      ]
     },
     "metadata": {},
     "output_type": "display_data"
    },
    {
     "name": "stdout",
     "output_type": "stream",
     "text": [
      "Average losses for w1: ['0.6886', '0.5531', '0.4727', '0.4380', '0.2840', '0.2383', '0.1765', '0.1010', '0.0683', '0.0189', '0.0008']\n",
      "Average losses for w2: ['0.0009', '0.0199', '0.0649', '0.1199', '0.1958', '0.3011', '0.3480', '0.3421', '0.4574', '0.6275', '0.6668']\n"
     ]
    }
   ],
   "source": [
    "proportions = np.arange(0, 1.1, 0.1)  # 0 to 1.0 in steps of 0.1\n",
    "\n",
    "plt.figure(figsize=(12, 6))\n",
    "plt.plot(proportions, avg_losses_w1, label='Loss w1', color='blue', marker='o')\n",
    "plt.plot(proportions, avg_losses_w2, label='Loss w2', color='red', marker='o')\n",
    "plt.xlabel('Proportion of w1 samples in context')\n",
    "plt.ylabel('Mean Squared Error')\n",
    "plt.title('Model Output Loss Compared to w1 and w2')\n",
    "plt.legend()\n",
    "plt.yscale('log')  # Use log scale for y-axis to better visualize differences\n",
    "plt.grid(True, which=\"both\", ls=\"-\", alpha=0.2)\n",
    "\n",
    "plt.tight_layout()\n",
    "plt.show()\n",
    "\n",
    "print(\"Average losses for w1:\", [f\"{loss:.4f}\" for loss in avg_losses_w1])\n",
    "print(\"Average losses for w2:\", [f\"{loss:.4f}\" for loss in avg_losses_w2])\n",
    "\n"
   ]
  }
 ],
 "metadata": {
  "colab": {
   "provenance": []
  },
  "kernelspec": {
   "display_name": "transformers_icl_opt",
   "language": "python",
   "name": "python3"
  },
  "language_info": {
   "codemirror_mode": {
    "name": "ipython",
    "version": 3
   },
   "file_extension": ".py",
   "mimetype": "text/x-python",
   "name": "python",
   "nbconvert_exporter": "python",
   "pygments_lexer": "ipython3",
   "version": "3.8.12"
  }
 },
 "nbformat": 4,
 "nbformat_minor": 5
}
